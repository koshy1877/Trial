{
 "cells": [
  {
   "cell_type": "markdown",
   "id": "7d9985cb-ba9e-4f6b-bc0c-c9d7386989a4",
   "metadata": {},
   "source": [
    "# Data Science Tools and Ecosystem\n"
   ]
  },
  {
   "cell_type": "markdown",
   "id": "57831afa-bf2c-48ac-a1e9-0a37d2a2c84d",
   "metadata": {},
   "source": [
    "In this notebook, Data Science Tools and Ecosystem are summarized."
   ]
  },
  {
   "cell_type": "markdown",
   "id": "79c404b1-2f92-4c1f-8197-bc08837c1387",
   "metadata": {
    "tags": []
   },
   "source": [
    "**Objectives:**\n",
    "* Understand the popular data science languages\n",
    "* Understand commonly used data science libraries\n",
    "* Understand important data science tools\n",
    "* Perform basic arithmetic operations in notebook"
   ]
  },
  {
   "cell_type": "markdown",
   "id": "5a9a7213-803d-47f6-8504-1af0f2c7070b",
   "metadata": {},
   "source": [
    "Some of the popular languages that Data Scientists use are:\n",
    "1. Python\n",
    "2. R\n",
    "3. Scala\n",
    "4. Pyspark"
   ]
  },
  {
   "cell_type": "markdown",
   "id": "81d52544-94cb-42df-ab56-aaecaa341b30",
   "metadata": {},
   "source": [
    "Some of the commonly used libraries used by Data Scientists include:\n",
    "\n",
    "1. Pandas\n",
    "2. NumPy\n",
    "3. TensorFlow\n",
    "4. Matplotlib"
   ]
  },
  {
   "cell_type": "markdown",
   "id": "0fa35cf7-fab8-441f-ac8e-f12dbe65b07b",
   "metadata": {},
   "source": [
    "|Data Science Tools|\n",
    "|---|\n",
    "|Knime|\n",
    "|PowerBI|\n",
    "|Jupyternote book|"
   ]
  },
  {
   "cell_type": "markdown",
   "id": "24ad3f1e-3255-4abe-a5e3-94ce8405fb5c",
   "metadata": {},
   "source": [
    "### Below are a few examples of evaluating arithmetic expressions in Python"
   ]
  },
  {
   "cell_type": "code",
   "execution_count": 1,
   "id": "f72434a8-79e8-421e-bf9a-f0561d2ab21e",
   "metadata": {},
   "outputs": [
    {
     "data": {
      "text/plain": [
       "33"
      ]
     },
     "execution_count": 1,
     "metadata": {},
     "output_type": "execute_result"
    }
   ],
   "source": [
    "12+21"
   ]
  },
  {
   "cell_type": "code",
   "execution_count": 2,
   "id": "7be2170a-296f-48b5-9e52-65819d1c7f00",
   "metadata": {},
   "outputs": [
    {
     "data": {
      "text/plain": [
       "102.83333333333333"
      ]
     },
     "execution_count": 2,
     "metadata": {},
     "output_type": "execute_result"
    }
   ],
   "source": [
    "1234/12"
   ]
  },
  {
   "cell_type": "code",
   "execution_count": 3,
   "id": "93cf6e9e-0197-410d-b695-ea8173e1449f",
   "metadata": {},
   "outputs": [
    {
     "data": {
      "text/plain": [
       "17"
      ]
     },
     "execution_count": 3,
     "metadata": {},
     "output_type": "execute_result"
    }
   ],
   "source": [
    "# This a simple arithmetic expression to mutiply then add integers\n",
    "(3*4)+5"
   ]
  },
  {
   "cell_type": "code",
   "execution_count": 7,
   "id": "8081347d-8757-40e2-b07a-31cde1af246e",
   "metadata": {},
   "outputs": [
    {
     "data": {
      "text/plain": [
       "3.3333333333333335"
      ]
     },
     "execution_count": 7,
     "metadata": {},
     "output_type": "execute_result"
    }
   ],
   "source": [
    "# This will convert 200 minutes to hours by diving by 60\n",
    "200/60"
   ]
  },
  {
   "cell_type": "markdown",
   "id": "6320bf11-4dbd-4f1d-8b74-d724350274d8",
   "metadata": {},
   "source": [
    "## Author\n",
    "Koshy Jacob"
   ]
  },
  {
   "cell_type": "code",
   "execution_count": null,
   "id": "0ae7d90c-3ad6-4d12-86cb-3492ae7f4ecb",
   "metadata": {},
   "outputs": [],
   "source": []
  }
 ],
 "metadata": {
  "kernelspec": {
   "display_name": "Python",
   "language": "python",
   "name": "conda-env-python-py"
  },
  "language_info": {
   "codemirror_mode": {
    "name": "ipython",
    "version": 3
   },
   "file_extension": ".py",
   "mimetype": "text/x-python",
   "name": "python",
   "nbconvert_exporter": "python",
   "pygments_lexer": "ipython3",
   "version": "3.7.12"
  }
 },
 "nbformat": 4,
 "nbformat_minor": 5
}
